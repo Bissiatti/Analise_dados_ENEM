{
 "cells": [
  {
   "cell_type": "markdown",
   "source": [
    "# Análise do vestibular ENEM 2019\r\n",
    "\r\n",
    "## Introduction to Data Science\r\n",
    "\r\n",
    "## The CRISP-DM approach to Data Science Tasks"
   ],
   "metadata": {}
  },
  {
   "cell_type": "markdown",
   "source": [
    "_________________________"
   ],
   "metadata": {}
  },
  {
   "cell_type": "markdown",
   "source": [
    "## I. Business Understanding\r\n",
    "                    \r\n",
    "#### The Business Understanding phase focuses on understanding the objectives and requirements of the project.  \r\n",
    "+ Determine business objectives:   \r\n",
    "+ Assess situation:  \r\n",
    "+ Determine data mining goals:  \r\n",
    "+ Produce project plan:  \r\n"
   ],
   "metadata": {}
  },
  {
   "cell_type": "markdown",
   "source": [
    "\r\n",
    "\r\n",
    "#### Determine business objectives:   \r\n",
    "\r\n",
    "* Compreender quais aspectos melhor determinam a nota de um aluno no Enem de acordo com a Teoria de Resposta ao Item.\r\n",
    "\r\n",
    "- Observar se existe uma correlação entre as notas de cada uma das 4 áreas do conhecimento e a redação. \r\n",
    "\r\n",
    "* Entender como é distribuida a educação no país, e quais fatores interferem no desempenho de um estudante.\r\n",
    "\r\n",
    "- Analisar se com as cotas há um acesso mais democrático às instituições públicas de ensino.\r\n",
    "\r\n",
    "#### Assess situation:  \r\n",
    "\r\n",
    "* Sabemos que o ENEM utiliza o TRI (Teoria de Resposta ao Item) que classifica as questões conforme a dificuldade, isto é, cada questão possui um peso pré-determinado que não conhecido do público. Esse sistema é utilizado para evitar \"chutes\", se um aluno erra uma questão considerada fácil e acerta uma questão considerada difícil, o aluno sofre uma penalidade. Desse modo, mesmo com o gabarito dos alunos não nos é possível determinar a nota correta dos alunos, pretendemos obter o melhor modelo de regrassão para atribuir a nota aos alunos.\r\n",
    "\r\n",
    "- A priori, acreditamos que no Brasil, as escolas privadas e escolas públicas federais obtém um melhor desempenho no ENEM, do que os alunos de escolas públicas estaduais e municipais. Além disso, acreditamos que a locaclização geográfica da escola e da moradia do estudante e a renda familiar influencia no seu desempenho, alunos que moram em situações vuneráveis e|ou possuem baixa renda tendem a obter um desempenho inferior a média nacional. \r\n",
    "\r\n",
    "#### Determine data mining goals:  \r\n",
    "\r\n",
    "- Obter os dados oficiais do INEP de todos os alunos que fizeram o vestibular no ano de 2019: https://www.gov.br/inep/pt-br/acesso-a-informacao/dados-abertos/microdados/enem onde consta os microdados do ENEM (\"Os microdados do Enem são o menor nível de desagregação de dados recolhidos por meio do exame. Eles atendem a demanda por informações específicas ao disponibilizar as provas, os gabaritos, as informações sobre os itens, as notas e o questionário respondido pelos inscritos no Enem\" - INEP).\r\n",
    "\r\n",
    "* Obter as notas de corte de algumas universidades públicas brasileiras para analizar a democratização do ensino público.\r\n",
    "\r\n",
    "#### Produce project plan: \r\n",
    "\r\n",
    "- Limpar os dados, por exemplo, remover os alunos treineiros e alunos que não concluiram o vestibular da base de dados.\r\n",
    "\r\n",
    "* Analisar os nossos dados, obter as médias, os mínimos e os máximos.\r\n",
    "\r\n",
    "- Criar classificadores, se necessário. \r\n",
    "\r\n",
    "* Determinar as informações que serão utilizadas em cada modelo.\r\n",
    "\r\n",
    "- Observar se existe alguma correlação dentre as informações disponíveis. \r\n",
    "\r\n",
    "* Encontrar o melhor modelo de regressão para as notas.\r\n",
    "\r\n",
    "- Analisar a questão das cotas e da nota de corte das universidades públicas.\r\n",
    "\r\n",
    "* Reunir as informações obtidas e concluir o trabalho.\r\n"
   ],
   "metadata": {}
  },
  {
   "cell_type": "markdown",
   "source": [
    "## II. Data Understanding  \n",
    "\n",
    "+ Collect initial data:  \n",
    "+ Describe data:  \n",
    "+ Explore data:  \n",
    "+ Verify data quality:  "
   ],
   "metadata": {}
  },
  {
   "cell_type": "code",
   "execution_count": null,
   "source": [],
   "outputs": [],
   "metadata": {}
  },
  {
   "cell_type": "markdown",
   "source": [
    "## III. Data Preparation\n",
    "\n",
    "+ Select data:   \n",
    "+ Clean data:   \n",
    "+ Construct data/transform data/feature engineering:   \n",
    "+ Integrate data:   \n",
    "+ (Re) Format data:   "
   ],
   "metadata": {}
  },
  {
   "cell_type": "code",
   "execution_count": null,
   "source": [],
   "outputs": [],
   "metadata": {}
  },
  {
   "cell_type": "markdown",
   "source": [
    "## IV. Modeling\n",
    "\n",
    "+ Select modeling techniques: \n",
    "+ Generate test design: \n",
    "+ Build model: \n",
    "+ Assess model:  "
   ],
   "metadata": {}
  },
  {
   "cell_type": "code",
   "execution_count": null,
   "source": [],
   "outputs": [],
   "metadata": {}
  },
  {
   "cell_type": "markdown",
   "source": [
    "## V. Evaluation                    \n",
    "\n",
    "+ Evaluate results: \n",
    "+ Review process: \n",
    "+ Determine next steps: "
   ],
   "metadata": {}
  },
  {
   "cell_type": "code",
   "execution_count": null,
   "source": [],
   "outputs": [],
   "metadata": {}
  },
  {
   "cell_type": "markdown",
   "source": [
    "## VI. Deployment\n",
    "\n",
    "+ Plan deployment: \n",
    "+ Plan monitoring and maintenance: \n",
    "+ Produce final report: \n",
    "+ Review project: "
   ],
   "metadata": {}
  },
  {
   "cell_type": "code",
   "execution_count": null,
   "source": [],
   "outputs": [],
   "metadata": {}
  }
 ],
 "metadata": {
  "kernelspec": {
   "display_name": "Python 3",
   "language": "python",
   "name": "python3"
  },
  "language_info": {
   "codemirror_mode": {
    "name": "ipython",
    "version": 3
   },
   "file_extension": ".py",
   "mimetype": "text/x-python",
   "name": "python",
   "nbconvert_exporter": "python",
   "pygments_lexer": "ipython3",
   "version": "3.7.6"
  }
 },
 "nbformat": 4,
 "nbformat_minor": 4
}